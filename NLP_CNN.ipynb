{
 "cells": [
  {
   "cell_type": "markdown",
   "metadata": {},
   "source": [
    "### Import important Library."
   ]
  },
  {
   "cell_type": "code",
   "execution_count": null,
   "metadata": {},
   "outputs": [],
   "source": [
    "import pandas as pd\n",
    "import numpy as np\n",
    "import tensorflow as tf\n",
    "import matplotlib.pyplot as plt\n",
    "%matplotlib inline\n",
    "import warnings\n",
    "from tensorflow.keras.preprocessing.text import Tokenizer\n",
    "from tensorflow.keras.preprocessing.sequence import pad_sequences\n",
    "warnings.filterwarnings(\"ignore\")\n",
    "from tensorflow.keras import Sequential"
   ]
  },
  {
   "cell_type": "code",
   "execution_count": 2,
   "metadata": {},
   "outputs": [],
   "source": [
    "#Read the file\n",
    "df=pd.read_csv(\"review_clean.csv\")"
   ]
  },
  {
   "cell_type": "code",
   "execution_count": 3,
   "metadata": {},
   "outputs": [
    {
     "data": {
      "text/html": [
       "<div>\n",
       "<style scoped>\n",
       "    .dataframe tbody tr th:only-of-type {\n",
       "        vertical-align: middle;\n",
       "    }\n",
       "\n",
       "    .dataframe tbody tr th {\n",
       "        vertical-align: top;\n",
       "    }\n",
       "\n",
       "    .dataframe thead th {\n",
       "        text-align: right;\n",
       "    }\n",
       "</style>\n",
       "<table border=\"1\" class=\"dataframe\">\n",
       "  <thead>\n",
       "    <tr style=\"text-align: right;\">\n",
       "      <th></th>\n",
       "      <th>Unnamed: 0</th>\n",
       "      <th>id</th>\n",
       "      <th>keyword</th>\n",
       "      <th>location</th>\n",
       "      <th>text</th>\n",
       "      <th>target</th>\n",
       "      <th>clean_text</th>\n",
       "    </tr>\n",
       "  </thead>\n",
       "  <tbody>\n",
       "    <tr>\n",
       "      <th>0</th>\n",
       "      <td>0</td>\n",
       "      <td>1</td>\n",
       "      <td>NaN</td>\n",
       "      <td>NaN</td>\n",
       "      <td>Our Deeds are the Reason of this #earthquake M...</td>\n",
       "      <td>1</td>\n",
       "      <td>Our Deeds are the Reason of this May ALLAH For...</td>\n",
       "    </tr>\n",
       "    <tr>\n",
       "      <th>1</th>\n",
       "      <td>1</td>\n",
       "      <td>4</td>\n",
       "      <td>NaN</td>\n",
       "      <td>NaN</td>\n",
       "      <td>Forest fire near La Ronge Sask. Canada</td>\n",
       "      <td>1</td>\n",
       "      <td>Forest fire near La Ronge Sask Canada</td>\n",
       "    </tr>\n",
       "    <tr>\n",
       "      <th>2</th>\n",
       "      <td>2</td>\n",
       "      <td>5</td>\n",
       "      <td>NaN</td>\n",
       "      <td>NaN</td>\n",
       "      <td>All residents asked to 'shelter in place' are ...</td>\n",
       "      <td>1</td>\n",
       "      <td>All residents asked to shelter in place are be...</td>\n",
       "    </tr>\n",
       "    <tr>\n",
       "      <th>3</th>\n",
       "      <td>3</td>\n",
       "      <td>6</td>\n",
       "      <td>NaN</td>\n",
       "      <td>NaN</td>\n",
       "      <td>13,000 people receive #wildfires evacuation or...</td>\n",
       "      <td>1</td>\n",
       "      <td>people receive evacuation orders in California</td>\n",
       "    </tr>\n",
       "    <tr>\n",
       "      <th>4</th>\n",
       "      <td>4</td>\n",
       "      <td>7</td>\n",
       "      <td>NaN</td>\n",
       "      <td>NaN</td>\n",
       "      <td>Just got sent this photo from Ruby #Alaska as ...</td>\n",
       "      <td>1</td>\n",
       "      <td>Just got sent this photo from Ruby as smoke fr...</td>\n",
       "    </tr>\n",
       "  </tbody>\n",
       "</table>\n",
       "</div>"
      ],
      "text/plain": [
       "   Unnamed: 0  id keyword location  \\\n",
       "0           0   1     NaN      NaN   \n",
       "1           1   4     NaN      NaN   \n",
       "2           2   5     NaN      NaN   \n",
       "3           3   6     NaN      NaN   \n",
       "4           4   7     NaN      NaN   \n",
       "\n",
       "                                                text  target  \\\n",
       "0  Our Deeds are the Reason of this #earthquake M...       1   \n",
       "1             Forest fire near La Ronge Sask. Canada       1   \n",
       "2  All residents asked to 'shelter in place' are ...       1   \n",
       "3  13,000 people receive #wildfires evacuation or...       1   \n",
       "4  Just got sent this photo from Ruby #Alaska as ...       1   \n",
       "\n",
       "                                          clean_text  \n",
       "0  Our Deeds are the Reason of this May ALLAH For...  \n",
       "1              Forest fire near La Ronge Sask Canada  \n",
       "2  All residents asked to shelter in place are be...  \n",
       "3     people receive evacuation orders in California  \n",
       "4  Just got sent this photo from Ruby as smoke fr...  "
      ]
     },
     "execution_count": 3,
     "metadata": {},
     "output_type": "execute_result"
    }
   ],
   "source": [
    "#Showing first five rows of dataframe\n",
    "df.head(5)"
   ]
  },
  {
   "cell_type": "code",
   "execution_count": 4,
   "metadata": {},
   "outputs": [],
   "source": [
    "# Extracting the independent variables and dependent Variables/=\n",
    "tweet=df[\"clean_text\"].tolist()\n",
    "target=df[\"target\"].tolist()\n",
    "print(tweet[0:5])\n",
    "print(target[0:5])"
   ]
  },
  {
   "cell_type": "code",
   "execution_count": 6,
   "metadata": {},
   "outputs": [
    {
     "name": "stdout",
     "output_type": "stream",
     "text": [
      "Total Number of tweet in training set 6090 \n",
      "Total Number of tweet in testing set 1523\n"
     ]
    }
   ],
   "source": [
    "training=int(len(df)*0.8)\n",
    "testing=int(len(df)-training)\n",
    "print(\"Total Number of tweet in training set {} \\nTotal Number of tweet in testing set {}\".format(training,testing))"
   ]
  },
  {
   "cell_type": "markdown",
   "metadata": {},
   "source": [
    "### Spliting the Data"
   ]
  },
  {
   "cell_type": "code",
   "execution_count": 16,
   "metadata": {},
   "outputs": [
    {
     "name": "stdout",
     "output_type": "stream",
     "text": [
      "['Our Deeds are the Reason of this May ALLAH Forgive us all', 'Forest fire near La Ronge Sask Canada', 'All residents asked to shelter in place are being notified by officers No other evacuation or shelter in place orders are expected', 'people receive evacuation orders in California', 'Just got sent this photo from Ruby as smoke from pours into a school']\n",
      "['Sinking Fast  Now or Never on North East Unsigned Radio listen at', 'that horrible sinking feeling when youve been at home on your phone for a while and you realise its been on G this whole time', 'Nigga car sinking but he snapping it up for fox ', 'You should delete this one its not an abbandoned nor sinking Thats the darsena of the Castello scaligero di Sirmione', 'that horrible sinking feeling when youve been at home on your phone for a while and you realise its been on G this whole time']\n"
     ]
    }
   ],
   "source": [
    "#Splitting the data into trainset and testset in ratio(80:20)\n",
    "train=tweet[0:training] \n",
    "test=tweet[training:]\n",
    "print(train[:5])\n",
    "print(test[:5])"
   ]
  },
  {
   "cell_type": "code",
   "execution_count": 8,
   "metadata": {},
   "outputs": [
    {
     "name": "stdout",
     "output_type": "stream",
     "text": [
      "[1, 1, 1, 1, 1]\n",
      "[0, 1, 0, 0, 0]\n"
     ]
    }
   ],
   "source": [
    "#Splitting the target variable in ratio(80:20)\n",
    "training_label=target[0:training]\n",
    "testing_label=target[training:]\n",
    "print(training_label[:5])\n",
    "print(testing_label[:5])"
   ]
  },
  {
   "cell_type": "code",
   "execution_count": 17,
   "metadata": {},
   "outputs": [
    {
     "name": "stdout",
     "output_type": "stream",
     "text": [
      "[1 1 1 1 1]\n",
      "[0 1 0 0 0]\n"
     ]
    }
   ],
   "source": [
    "# Convert traingin label into numpy arrays for use with the network.\n",
    "training_label=np.array(training_label)\n",
    "testing_label=np.array(testing_label)\n",
    "print(training_label[:5])\n",
    "print(testing_label[:5])"
   ]
  },
  {
   "cell_type": "markdown",
   "metadata": {},
   "source": [
    "### Tokenizing the Sentence"
   ]
  },
  {
   "cell_type": "code",
   "execution_count": 10,
   "metadata": {},
   "outputs": [],
   "source": [
    "vocab=1000\n",
    "embedding_dim=16\n",
    "max_length = 100\n",
    "trunc_type='post'\n",
    "padding_type='post'\n",
    "oov_tok = \"<OOV>\"\n",
    "\n",
    "\n",
    "tokenize=Tokenizer(num_words=vocab, filters='!\"#$%&()*+,-./:;<=>?@[\\\\]^_`{|}~\\t\\n',oov_token=oov_tok,lower=True,split=' ',char_level=False)\n",
    "tokenize.fit_on_texts(train)\n",
    "\n",
    "word_index=tokenize.word_index\n",
    "sequence=tokenize.texts_to_sequences(train)\n",
    "training_pad=pad_sequences(sequence, maxlen=max_length, padding=padding_type, truncating=trunc_type)"
   ]
  },
  {
   "cell_type": "markdown",
   "metadata": {},
   "source": [
    "### Sequencing the word and padding them."
   ]
  },
  {
   "cell_type": "code",
   "execution_count": 11,
   "metadata": {},
   "outputs": [],
   "source": [
    "testing_sequences = tokenize.texts_to_sequences(test)\n",
    "testing_padded = pad_sequences(testing_sequences,maxlen=max_length, \n",
    "                               padding=padding_type, truncating=trunc_type)"
   ]
  },
  {
   "cell_type": "code",
   "execution_count": 12,
   "metadata": {},
   "outputs": [
    {
     "name": "stdout",
     "output_type": "stream",
     "text": [
      "forest fire near la <OOV> <OOV> <OOV> ? ? ? ? ? ? ? ? ? ? ? ? ? ? ? ? ? ? ? ? ? ? ? ? ? ? ? ? ? ? ? ? ? ? ? ? ? ? ? ? ? ? ? ? ? ? ? ? ? ? ? ? ? ? ? ? ? ? ? ? ? ? ? ? ? ? ? ? ? ? ? ? ? ? ? ? ? ? ? ? ? ? ? ? ? ? ? ? ? ? ? ? ?\n",
      "Forest fire near La Ronge Sask Canada\n"
     ]
    }
   ],
   "source": [
    "#In this we can check the padding and sequencing are working  or not.\n",
    "reverse_word_index = dict([(value, key) for (key, value) in word_index.items()])\n",
    "\n",
    "def decode_review(text):\n",
    "    return ' '.join([reverse_word_index.get(i, '?') for i in text])\n",
    "\n",
    "print(decode_review(training_pad[1]))\n",
    "print(train[1])"
   ]
  },
  {
   "cell_type": "markdown",
   "metadata": {},
   "source": [
    "### Creating the model.\n",
    "\n",
    "* First we will create sequential layer.\n",
    "* Then we add Embedding layer.\n",
    "* We add Convloution layer.\n",
    "* Now we have to flatten the input for the dense layer. we can use 2 method either Flatten() layer or GlobalAveragePooling1D() layer.\n",
    "* Then we add Dense layer.\n",
    "* Later we will compile model with loss_function, activation_function, Matrics type."
   ]
  },
  {
   "cell_type": "code",
   "execution_count": 13,
   "metadata": {},
   "outputs": [
    {
     "name": "stdout",
     "output_type": "stream",
     "text": [
      "Model: \"sequential\"\n",
      "_________________________________________________________________\n",
      "Layer (type)                 Output Shape              Param #   \n",
      "=================================================================\n",
      "embedding (Embedding)        (None, 100, 16)           16000     \n",
      "_________________________________________________________________\n",
      "global_average_pooling1d (Gl (None, 16)                0         \n",
      "_________________________________________________________________\n",
      "dense (Dense)                (None, 64)                1088      \n",
      "_________________________________________________________________\n",
      "dense_1 (Dense)              (None, 1)                 65        \n",
      "=================================================================\n",
      "Total params: 17,153\n",
      "Trainable params: 17,153\n",
      "Non-trainable params: 0\n",
      "_________________________________________________________________\n"
     ]
    }
   ],
   "source": [
    "model_cnn = tf.keras.Sequential([\n",
    "    tf.keras.layers.Embedding(vocab_size, embedding_dim, input_length=max_length),\n",
    "    tf.keras.layers.Conv1D(16, 5, activation='relu'),\n",
    "    tf.keras.layers.GlobalMaxPooling1D(),\n",
    "    tf.keras.layers.Dense(1, activation='sigmoid')\n",
    "])\n",
    "\n",
    "model_cnn.compile(loss='binary_crossentropy',optimizer='adam',metrics=['accuracy'])\n",
    "model_cnn.summary()"
   ]
  },
  {
   "cell_type": "markdown",
   "metadata": {},
   "source": [
    "#### Training the model."
   ]
  },
  {
   "cell_type": "code",
   "execution_count": 14,
   "metadata": {},
   "outputs": [
    {
     "name": "stdout",
     "output_type": "stream",
     "text": [
      "Train on 6090 samples, validate on 1523 samples\n",
      "Epoch 1/20\n",
      "6090/6090 [==============================] - 4s 630us/sample - loss: 0.6827 - accuracy: 0.5732 - val_loss: 0.6913 - val_accuracy: 0.5345\n",
      "Epoch 2/20\n",
      "6090/6090 [==============================] - 1s 188us/sample - loss: 0.6708 - accuracy: 0.5793 - val_loss: 0.6770 - val_accuracy: 0.5345\n",
      "Epoch 3/20\n",
      "6090/6090 [==============================] - 1s 111us/sample - loss: 0.6209 - accuracy: 0.6537 - val_loss: 0.6089 - val_accuracy: 0.6776\n",
      "Epoch 4/20\n",
      "6090/6090 [==============================] - 1s 103us/sample - loss: 0.5161 - accuracy: 0.7750 - val_loss: 0.5331 - val_accuracy: 0.7485\n",
      "Epoch 5/20\n",
      "6090/6090 [==============================] - 1s 105us/sample - loss: 0.4640 - accuracy: 0.7984 - val_loss: 0.5173 - val_accuracy: 0.7551\n",
      "Epoch 6/20\n",
      "6090/6090 [==============================] - 1s 145us/sample - loss: 0.4404 - accuracy: 0.8113 - val_loss: 0.5211 - val_accuracy: 0.7630\n",
      "Epoch 7/20\n",
      "6090/6090 [==============================] - 1s 115us/sample - loss: 0.4245 - accuracy: 0.8151 - val_loss: 0.5121 - val_accuracy: 0.7663\n",
      "Epoch 8/20\n",
      "6090/6090 [==============================] - 1s 106us/sample - loss: 0.4139 - accuracy: 0.8200 - val_loss: 0.5221 - val_accuracy: 0.7564\n",
      "Epoch 9/20\n",
      "6090/6090 [==============================] - 1s 113us/sample - loss: 0.4037 - accuracy: 0.8248 - val_loss: 0.5261 - val_accuracy: 0.7505\n",
      "Epoch 10/20\n",
      "6090/6090 [==============================] - 1s 109us/sample - loss: 0.3954 - accuracy: 0.8266 - val_loss: 0.5095 - val_accuracy: 0.7649\n",
      "Epoch 11/20\n",
      "6090/6090 [==============================] - 1s 107us/sample - loss: 0.3919 - accuracy: 0.8294 - val_loss: 0.4957 - val_accuracy: 0.7708\n",
      "Epoch 12/20\n",
      "6090/6090 [==============================] - 1s 116us/sample - loss: 0.3878 - accuracy: 0.8297 - val_loss: 0.5104 - val_accuracy: 0.7584\n",
      "Epoch 13/20\n",
      "6090/6090 [==============================] - 1s 105us/sample - loss: 0.3833 - accuracy: 0.8323 - val_loss: 0.4983 - val_accuracy: 0.7676\n",
      "Epoch 14/20\n",
      "6090/6090 [==============================] - 1s 105us/sample - loss: 0.3785 - accuracy: 0.8338 - val_loss: 0.5088 - val_accuracy: 0.7459\n",
      "Epoch 15/20\n",
      "6090/6090 [==============================] - 1s 114us/sample - loss: 0.3771 - accuracy: 0.8343 - val_loss: 0.5022 - val_accuracy: 0.7702\n",
      "Epoch 16/20\n",
      "6090/6090 [==============================] - 1s 110us/sample - loss: 0.3717 - accuracy: 0.8389 - val_loss: 0.5042 - val_accuracy: 0.7689\n",
      "Epoch 17/20\n",
      "6090/6090 [==============================] - 1s 105us/sample - loss: 0.3713 - accuracy: 0.8369 - val_loss: 0.5088 - val_accuracy: 0.7538\n",
      "Epoch 18/20\n",
      "6090/6090 [==============================] - 1s 118us/sample - loss: 0.3710 - accuracy: 0.8388 - val_loss: 0.5138 - val_accuracy: 0.7564\n",
      "Epoch 19/20\n",
      "6090/6090 [==============================] - 1s 108us/sample - loss: 0.3672 - accuracy: 0.8397 - val_loss: 0.5128 - val_accuracy: 0.7623\n",
      "Epoch 20/20\n",
      "6090/6090 [==============================] - 1s 110us/sample - loss: 0.3650 - accuracy: 0.8404 - val_loss: 0.5489 - val_accuracy: 0.7518\n"
     ]
    }
   ],
   "source": [
    "num_epoch =20\n",
    "history=model_cnn.fit(training_pad, training_label, epochs=num_epoch, validation_data=(testing_padded, testing_label))"
   ]
  },
  {
   "cell_type": "markdown",
   "metadata": {},
   "source": [
    "### Plotting loss and accuracy for training and validation set."
   ]
  },
  {
   "cell_type": "code",
   "execution_count": 18,
   "metadata": {},
   "outputs": [
    {
     "data": {
      "image/png": "[encoded data removed]",
      "text/plain": [
       "<Figure size 432x288 with 1 Axes>"
      ]
     },
     "metadata": {
      "needs_background": "light"
     },
     "output_type": "display_data"
    },
    {
     "data": {
      "image/png": "[encoded data removed]",
      "text/plain": [
       "<Figure size 432x288 with 1 Axes>"
      ]
     },
     "metadata": {
      "needs_background": "light"
     },
     "output_type": "display_data"
    }
   ],
   "source": [
    "def plot_graphs(history, string):\n",
    "  plt.plot(history.history[string])\n",
    "  plt.plot(history.history['val_'+string])\n",
    "  plt.xlabel(\"Epochs\")\n",
    "  plt.ylabel(string)\n",
    "  plt.legend([string, 'val_'+string])\n",
    "  plt.show()\n",
    "  \n",
    "plot_graphs(history, \"accuracy\")\n",
    "plot_graphs(history, \"loss\")"
   ]
  },
  {
   "cell_type": "markdown",
   "metadata": {},
   "source": [
    "$$ END $$"
   ]
  }
 ],
 "metadata": {
  "kernelspec": {
   "display_name": "Python 3",
   "language": "python",
   "name": "python3"
  },
  "language_info": {
   "codemirror_mode": {
    "name": "ipython",
    "version": 3
   },
   "file_extension": ".py",
   "mimetype": "text/x-python",
   "name": "python",
   "nbconvert_exporter": "python",
   "pygments_lexer": "ipython3",
   "version": "3.7.4"
  }
 },
 "nbformat": 4,
 "nbformat_minor": 2
}
